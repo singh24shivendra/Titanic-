{
 "cells": [
  {
   "cell_type": "code",
   "execution_count": 1,
   "metadata": {},
   "outputs": [],
   "source": [
    "#import libraries\n",
    "import pandas as pd\n",
    "import numpy as np\n",
    "import matplotlib.pyplot as plt\n",
    "import seaborn as sns"
   ]
  },
  {
   "cell_type": "code",
   "execution_count": 3,
   "metadata": {},
   "outputs": [],
   "source": [
    "# Load dataset from seaborn\n",
    "titanic = sns.load_dataset('titanic')"
   ]
  },
  {
   "cell_type": "code",
   "execution_count": 10,
   "metadata": {},
   "outputs": [
    {
     "data": {
      "text/html": [
       "<div>\n",
       "<style scoped>\n",
       "    .dataframe tbody tr th:only-of-type {\n",
       "        vertical-align: middle;\n",
       "    }\n",
       "\n",
       "    .dataframe tbody tr th {\n",
       "        vertical-align: top;\n",
       "    }\n",
       "\n",
       "    .dataframe thead th {\n",
       "        text-align: right;\n",
       "    }\n",
       "</style>\n",
       "<table border=\"1\" class=\"dataframe\">\n",
       "  <thead>\n",
       "    <tr style=\"text-align: right;\">\n",
       "      <th></th>\n",
       "      <th>survived</th>\n",
       "      <th>pclass</th>\n",
       "      <th>sex</th>\n",
       "      <th>age</th>\n",
       "      <th>sibsp</th>\n",
       "      <th>parch</th>\n",
       "      <th>fare</th>\n",
       "      <th>embarked</th>\n",
       "      <th>class</th>\n",
       "      <th>who</th>\n",
       "      <th>adult_male</th>\n",
       "      <th>deck</th>\n",
       "      <th>embark_town</th>\n",
       "      <th>alive</th>\n",
       "      <th>alone</th>\n",
       "    </tr>\n",
       "  </thead>\n",
       "  <tbody>\n",
       "    <tr>\n",
       "      <th>0</th>\n",
       "      <td>0</td>\n",
       "      <td>3</td>\n",
       "      <td>male</td>\n",
       "      <td>22.0</td>\n",
       "      <td>1</td>\n",
       "      <td>0</td>\n",
       "      <td>7.2500</td>\n",
       "      <td>S</td>\n",
       "      <td>Third</td>\n",
       "      <td>man</td>\n",
       "      <td>True</td>\n",
       "      <td>NaN</td>\n",
       "      <td>Southampton</td>\n",
       "      <td>no</td>\n",
       "      <td>False</td>\n",
       "    </tr>\n",
       "    <tr>\n",
       "      <th>1</th>\n",
       "      <td>1</td>\n",
       "      <td>1</td>\n",
       "      <td>female</td>\n",
       "      <td>38.0</td>\n",
       "      <td>1</td>\n",
       "      <td>0</td>\n",
       "      <td>71.2833</td>\n",
       "      <td>C</td>\n",
       "      <td>First</td>\n",
       "      <td>woman</td>\n",
       "      <td>False</td>\n",
       "      <td>C</td>\n",
       "      <td>Cherbourg</td>\n",
       "      <td>yes</td>\n",
       "      <td>False</td>\n",
       "    </tr>\n",
       "    <tr>\n",
       "      <th>2</th>\n",
       "      <td>1</td>\n",
       "      <td>3</td>\n",
       "      <td>female</td>\n",
       "      <td>26.0</td>\n",
       "      <td>0</td>\n",
       "      <td>0</td>\n",
       "      <td>7.9250</td>\n",
       "      <td>S</td>\n",
       "      <td>Third</td>\n",
       "      <td>woman</td>\n",
       "      <td>False</td>\n",
       "      <td>NaN</td>\n",
       "      <td>Southampton</td>\n",
       "      <td>yes</td>\n",
       "      <td>True</td>\n",
       "    </tr>\n",
       "    <tr>\n",
       "      <th>3</th>\n",
       "      <td>1</td>\n",
       "      <td>1</td>\n",
       "      <td>female</td>\n",
       "      <td>35.0</td>\n",
       "      <td>1</td>\n",
       "      <td>0</td>\n",
       "      <td>53.1000</td>\n",
       "      <td>S</td>\n",
       "      <td>First</td>\n",
       "      <td>woman</td>\n",
       "      <td>False</td>\n",
       "      <td>C</td>\n",
       "      <td>Southampton</td>\n",
       "      <td>yes</td>\n",
       "      <td>False</td>\n",
       "    </tr>\n",
       "    <tr>\n",
       "      <th>4</th>\n",
       "      <td>0</td>\n",
       "      <td>3</td>\n",
       "      <td>male</td>\n",
       "      <td>35.0</td>\n",
       "      <td>0</td>\n",
       "      <td>0</td>\n",
       "      <td>8.0500</td>\n",
       "      <td>S</td>\n",
       "      <td>Third</td>\n",
       "      <td>man</td>\n",
       "      <td>True</td>\n",
       "      <td>NaN</td>\n",
       "      <td>Southampton</td>\n",
       "      <td>no</td>\n",
       "      <td>True</td>\n",
       "    </tr>\n",
       "  </tbody>\n",
       "</table>\n",
       "</div>"
      ],
      "text/plain": [
       "   survived  pclass     sex   age  sibsp  parch     fare embarked  class  \\\n",
       "0         0       3    male  22.0      1      0   7.2500        S  Third   \n",
       "1         1       1  female  38.0      1      0  71.2833        C  First   \n",
       "2         1       3  female  26.0      0      0   7.9250        S  Third   \n",
       "3         1       1  female  35.0      1      0  53.1000        S  First   \n",
       "4         0       3    male  35.0      0      0   8.0500        S  Third   \n",
       "\n",
       "     who  adult_male deck  embark_town alive  alone  \n",
       "0    man        True  NaN  Southampton    no  False  \n",
       "1  woman       False    C    Cherbourg   yes  False  \n",
       "2  woman       False  NaN  Southampton   yes   True  \n",
       "3  woman       False    C  Southampton   yes  False  \n",
       "4    man        True  NaN  Southampton    no   True  "
      ]
     },
     "execution_count": 10,
     "metadata": {},
     "output_type": "execute_result"
    }
   ],
   "source": [
    "# Check the dataset to understand parameters\n",
    "titanic.head()"
   ]
  },
  {
   "cell_type": "code",
   "execution_count": 11,
   "metadata": {},
   "outputs": [
    {
     "data": {
      "text/plain": [
       "(891, 15)"
      ]
     },
     "execution_count": 11,
     "metadata": {},
     "output_type": "execute_result"
    }
   ],
   "source": [
    "# Check the number of rows and columns in the dataset\n",
    "titanic.shape"
   ]
  },
  {
   "cell_type": "code",
   "execution_count": 14,
   "metadata": {},
   "outputs": [
    {
     "data": {
      "text/html": [
       "<div>\n",
       "<style scoped>\n",
       "    .dataframe tbody tr th:only-of-type {\n",
       "        vertical-align: middle;\n",
       "    }\n",
       "\n",
       "    .dataframe tbody tr th {\n",
       "        vertical-align: top;\n",
       "    }\n",
       "\n",
       "    .dataframe thead th {\n",
       "        text-align: right;\n",
       "    }\n",
       "</style>\n",
       "<table border=\"1\" class=\"dataframe\">\n",
       "  <thead>\n",
       "    <tr style=\"text-align: right;\">\n",
       "      <th></th>\n",
       "      <th>survived</th>\n",
       "      <th>pclass</th>\n",
       "      <th>age</th>\n",
       "      <th>sibsp</th>\n",
       "      <th>parch</th>\n",
       "      <th>fare</th>\n",
       "    </tr>\n",
       "  </thead>\n",
       "  <tbody>\n",
       "    <tr>\n",
       "      <th>count</th>\n",
       "      <td>891.000000</td>\n",
       "      <td>891.000000</td>\n",
       "      <td>714.000000</td>\n",
       "      <td>891.000000</td>\n",
       "      <td>891.000000</td>\n",
       "      <td>891.000000</td>\n",
       "    </tr>\n",
       "    <tr>\n",
       "      <th>mean</th>\n",
       "      <td>0.383838</td>\n",
       "      <td>2.308642</td>\n",
       "      <td>29.699118</td>\n",
       "      <td>0.523008</td>\n",
       "      <td>0.381594</td>\n",
       "      <td>32.204208</td>\n",
       "    </tr>\n",
       "    <tr>\n",
       "      <th>std</th>\n",
       "      <td>0.486592</td>\n",
       "      <td>0.836071</td>\n",
       "      <td>14.526497</td>\n",
       "      <td>1.102743</td>\n",
       "      <td>0.806057</td>\n",
       "      <td>49.693429</td>\n",
       "    </tr>\n",
       "    <tr>\n",
       "      <th>min</th>\n",
       "      <td>0.000000</td>\n",
       "      <td>1.000000</td>\n",
       "      <td>0.420000</td>\n",
       "      <td>0.000000</td>\n",
       "      <td>0.000000</td>\n",
       "      <td>0.000000</td>\n",
       "    </tr>\n",
       "    <tr>\n",
       "      <th>25%</th>\n",
       "      <td>0.000000</td>\n",
       "      <td>2.000000</td>\n",
       "      <td>20.125000</td>\n",
       "      <td>0.000000</td>\n",
       "      <td>0.000000</td>\n",
       "      <td>7.910400</td>\n",
       "    </tr>\n",
       "    <tr>\n",
       "      <th>50%</th>\n",
       "      <td>0.000000</td>\n",
       "      <td>3.000000</td>\n",
       "      <td>28.000000</td>\n",
       "      <td>0.000000</td>\n",
       "      <td>0.000000</td>\n",
       "      <td>14.454200</td>\n",
       "    </tr>\n",
       "    <tr>\n",
       "      <th>75%</th>\n",
       "      <td>1.000000</td>\n",
       "      <td>3.000000</td>\n",
       "      <td>38.000000</td>\n",
       "      <td>1.000000</td>\n",
       "      <td>0.000000</td>\n",
       "      <td>31.000000</td>\n",
       "    </tr>\n",
       "    <tr>\n",
       "      <th>max</th>\n",
       "      <td>1.000000</td>\n",
       "      <td>3.000000</td>\n",
       "      <td>80.000000</td>\n",
       "      <td>8.000000</td>\n",
       "      <td>6.000000</td>\n",
       "      <td>512.329200</td>\n",
       "    </tr>\n",
       "  </tbody>\n",
       "</table>\n",
       "</div>"
      ],
      "text/plain": [
       "         survived      pclass         age       sibsp       parch        fare\n",
       "count  891.000000  891.000000  714.000000  891.000000  891.000000  891.000000\n",
       "mean     0.383838    2.308642   29.699118    0.523008    0.381594   32.204208\n",
       "std      0.486592    0.836071   14.526497    1.102743    0.806057   49.693429\n",
       "min      0.000000    1.000000    0.420000    0.000000    0.000000    0.000000\n",
       "25%      0.000000    2.000000   20.125000    0.000000    0.000000    7.910400\n",
       "50%      0.000000    3.000000   28.000000    0.000000    0.000000   14.454200\n",
       "75%      1.000000    3.000000   38.000000    1.000000    0.000000   31.000000\n",
       "max      1.000000    3.000000   80.000000    8.000000    6.000000  512.329200"
      ]
     },
     "execution_count": 14,
     "metadata": {},
     "output_type": "execute_result"
    }
   ],
   "source": [
    "# Get basic statistics - gives statistics of only numerical columns in the dataset. 714 columns for age indicates missing values in age column\n",
    "titanic.describe()"
   ]
  },
  {
   "cell_type": "code",
   "execution_count": 16,
   "metadata": {},
   "outputs": [
    {
     "data": {
      "text/plain": [
       "0    549\n",
       "1    342\n",
       "Name: survived, dtype: int64"
      ]
     },
     "execution_count": 16,
     "metadata": {},
     "output_type": "execute_result"
    }
   ],
   "source": [
    "# Checking number of survivors - 342 survived while 549 did not\n",
    "titanic['survived'].value_counts()"
   ]
  },
  {
   "cell_type": "code",
   "execution_count": 17,
   "metadata": {},
   "outputs": [
    {
     "data": {
      "text/plain": [
       "<matplotlib.axes._subplots.AxesSubplot at 0x25a24c0c7c0>"
      ]
     },
     "execution_count": 17,
     "metadata": {},
     "output_type": "execute_result"
    },
    {
     "data": {
      "image/png": "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\n",
      "text/plain": [
       "<Figure size 432x288 with 1 Axes>"
      ]
     },
     "metadata": {
      "needs_background": "light"
     },
     "output_type": "display_data"
    }
   ],
   "source": [
    "# Visualising the same:\n",
    "sns.countplot(titanic['survived'])"
   ]
  },
  {
   "cell_type": "code",
   "execution_count": 41,
   "metadata": {},
   "outputs": [],
   "source": [
    "# checking survivor numbers fopr various colum heading in the dataframe.\n",
    "#creating list of colums for which we need to check survived data\n",
    "\n",
    "cols = ['who', 'sex', 'sibsp', 'parch', 'embarked', 'pclass']\n",
    "\n",
    "# defining the number of rows and colums we want to view the graphs on. 4 graphs will be generated\n",
    "\n",
    "n_rows = 2\n",
    "n_cols = 3"
   ]
  },
  {
   "cell_type": "code",
   "execution_count": 42,
   "metadata": {},
   "outputs": [
    {
     "data": {
      "image/png": "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\n",
      "text/plain": [
       "<Figure size 691.2x460.8 with 6 Axes>"
      ]
     },
     "metadata": {
      "needs_background": "light"
     },
     "output_type": "display_data"
    }
   ],
   "source": [
    "# Creating subplots and defining the size of the charts to be displayed\n",
    "\n",
    "fig, axs = plt.subplots(n_rows, n_cols, figsize = (n_cols*3.2, n_rows*3.2))\n",
    "\n",
    "# to place accurate data in each chart, initialising for loops - 1 or wors and another for columns\n",
    "\n",
    "for r in range(0, n_rows):\n",
    "    for c in range(0,n_cols):\n",
    "        i = r*n_cols +c  # setting index to go through each columns\n",
    "        ax = axs[r][c]   # Just to show where to position each of the 4 subplots\n",
    "        \n",
    "        #Creating subplots - using i to loop though each of the 4 columns we created\n",
    "        sns.countplot(titanic[cols[i]], hue = titanic['survived'], ax = ax)\n",
    "        \n",
    "        # Setting title for each chart\n",
    "        ax.set_title(cols[i])\n",
    "        \n",
    "        #Setting legend for each chart\n",
    "        ax.legend(title = 'survived', loc = 'upper right')\n",
    "plt.tight_layout()"
   ]
  },
  {
   "cell_type": "code",
   "execution_count": 43,
   "metadata": {},
   "outputs": [],
   "source": [
    "# from the charts we can conclude, Man amounted to more than half that did not survive\n",
    "# Likelyhood of Women surviving is over double of that of man\n",
    "#Passengers without any siblings are most likely to not survive\n",
    "# Passengers without parent are most likely to not survive\n",
    "# Majority of Cherberg passengers survived\n",
    "# 1st class passengers are highly likely to survive"
   ]
  },
  {
   "cell_type": "code",
   "execution_count": 47,
   "metadata": {},
   "outputs": [
    {
     "data": {
      "text/html": [
       "<div>\n",
       "<style scoped>\n",
       "    .dataframe tbody tr th:only-of-type {\n",
       "        vertical-align: middle;\n",
       "    }\n",
       "\n",
       "    .dataframe tbody tr th {\n",
       "        vertical-align: top;\n",
       "    }\n",
       "\n",
       "    .dataframe thead th {\n",
       "        text-align: right;\n",
       "    }\n",
       "</style>\n",
       "<table border=\"1\" class=\"dataframe\">\n",
       "  <thead>\n",
       "    <tr style=\"text-align: right;\">\n",
       "      <th></th>\n",
       "      <th>survived</th>\n",
       "    </tr>\n",
       "    <tr>\n",
       "      <th>sex</th>\n",
       "      <th></th>\n",
       "    </tr>\n",
       "  </thead>\n",
       "  <tbody>\n",
       "    <tr>\n",
       "      <th>female</th>\n",
       "      <td>0.742038</td>\n",
       "    </tr>\n",
       "    <tr>\n",
       "      <th>male</th>\n",
       "      <td>0.188908</td>\n",
       "    </tr>\n",
       "  </tbody>\n",
       "</table>\n",
       "</div>"
      ],
      "text/plain": [
       "        survived\n",
       "sex             \n",
       "female  0.742038\n",
       "male    0.188908"
      ]
     },
     "execution_count": 47,
     "metadata": {},
     "output_type": "execute_result"
    }
   ],
   "source": [
    "# Checking survival rate by sex - indicating 74% females survived\n",
    "titanic.groupby('sex')[['survived']].mean()"
   ]
  },
  {
   "cell_type": "code",
   "execution_count": 54,
   "metadata": {},
   "outputs": [
    {
     "data": {
      "text/html": [
       "<div>\n",
       "<style scoped>\n",
       "    .dataframe tbody tr th:only-of-type {\n",
       "        vertical-align: middle;\n",
       "    }\n",
       "\n",
       "    .dataframe tbody tr th {\n",
       "        vertical-align: top;\n",
       "    }\n",
       "\n",
       "    .dataframe thead th {\n",
       "        text-align: right;\n",
       "    }\n",
       "</style>\n",
       "<table border=\"1\" class=\"dataframe\">\n",
       "  <thead>\n",
       "    <tr style=\"text-align: right;\">\n",
       "      <th>class</th>\n",
       "      <th>First</th>\n",
       "      <th>Second</th>\n",
       "      <th>Third</th>\n",
       "    </tr>\n",
       "    <tr>\n",
       "      <th>sex</th>\n",
       "      <th></th>\n",
       "      <th></th>\n",
       "      <th></th>\n",
       "    </tr>\n",
       "  </thead>\n",
       "  <tbody>\n",
       "    <tr>\n",
       "      <th>female</th>\n",
       "      <td>0.968085</td>\n",
       "      <td>0.921053</td>\n",
       "      <td>0.500000</td>\n",
       "    </tr>\n",
       "    <tr>\n",
       "      <th>male</th>\n",
       "      <td>0.368852</td>\n",
       "      <td>0.157407</td>\n",
       "      <td>0.135447</td>\n",
       "    </tr>\n",
       "  </tbody>\n",
       "</table>\n",
       "</div>"
      ],
      "text/plain": [
       "class      First    Second     Third\n",
       "sex                                 \n",
       "female  0.968085  0.921053  0.500000\n",
       "male    0.368852  0.157407  0.135447"
      ]
     },
     "execution_count": 54,
     "metadata": {},
     "output_type": "execute_result"
    }
   ],
   "source": [
    "# Checking survival rate by sex and pclass\n",
    "titanic.pivot_table('survived', index = 'sex', columns = 'class')"
   ]
  },
  {
   "cell_type": "code",
   "execution_count": 55,
   "metadata": {},
   "outputs": [
    {
     "data": {
      "text/plain": [
       "<matplotlib.axes._subplots.AxesSubplot at 0x25a25187400>"
      ]
     },
     "execution_count": 55,
     "metadata": {},
     "output_type": "execute_result"
    },
    {
     "data": {
      "image/png": "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\n",
      "text/plain": [
       "<Figure size 432x288 with 1 Axes>"
      ]
     },
     "metadata": {
      "needs_background": "light"
     },
     "output_type": "display_data"
    }
   ],
   "source": [
    " #Checking survival rate by sex and class visually\n",
    "titanic.pivot_table('survived', index = 'sex', columns = 'class').plot()"
   ]
  },
  {
   "cell_type": "code",
   "execution_count": 58,
   "metadata": {},
   "outputs": [
    {
     "data": {
      "text/plain": [
       "<matplotlib.axes._subplots.AxesSubplot at 0x25a25046a30>"
      ]
     },
     "execution_count": 58,
     "metadata": {},
     "output_type": "execute_result"
    },
    {
     "data": {
      "image/png": "iVBORw0KGgoAAAANSUhEUgAAAYIAAAEGCAYAAABo25JHAAAABHNCSVQICAgIfAhkiAAAAAlwSFlzAAALEgAACxIB0t1+/AAAADh0RVh0U29mdHdhcmUAbWF0cGxvdGxpYiB2ZXJzaW9uMy4yLjIsIGh0dHA6Ly9tYXRwbG90bGliLm9yZy+WH4yJAAAUvUlEQVR4nO3df7DddX3n8eeLiynCoi6QnbQhSJbGsqBAJY3rYld0pA21u/G3ULbubluzdEoZZ0cj3bWsxXV2DU6nK6Jp7LBMrRWdqjVbY+PqKrZQS4INYFBsFtTchKs3sshPhcB7/zjf2MPJyc1JuN97cvN9PmbO5Pvjc77nffOde1738znn+/mmqpAkdddR4y5AkjReBoEkdZxBIEkdZxBIUscZBJLUcUePu4CDddJJJ9Wpp5467jIkaV659dZbd1fVwmH75l0QnHrqqWzZsmXcZUjSvJLk2/vb59CQJHWcQSBJHWcQSFLHGQSS1HGtBkGSlUnuSrI9yRVD9r8tydbm8bUkTyQ5oc2aJElP1VoQJJkArgUuBM4ALk5yRn+bqrq6qs6pqnOA3wFurKr72qpJkrSvNnsEK4DtVXV3VT0G3ACsmqH9xcBHW6xHkjREm0GwGNjRtz7ZbNtHkmOBlcAn9rN/dZItSbZMT0/PeqGS1GVtXlCWIdv2d/ODfwXctL9hoapaD6wHWL58+RF7A4U1a9YwNTXFokWLWLt27bjLkdQRbQbBJLCkb/1kYNd+2l6Ew0JMTU2xc+fOcZchqWPaHBraDCxLsjTJAnpv9hsGGyV5NvBS4NMt1iJJ2o/WegRVtSfJZcAmYAK4rqq2Jbm02b+uafpq4HNV9XBbtUiS9q/VSeeqaiOwcWDbuoH164Hr26xDkrR/XlksSR1nEEhSxxkEktRxBoEkdZxBIEkdZxBIUscZBJLUcQaBJHWcQSBJHWcQSFLHGQSS1HEGgSR1nEEgSR1nEEhSxxkEktRxrd6PYNzOfdsfj7uEg3L87geZAL6z+8F5VfutV79p3CVIehrsEUhSxxkEktRxBoEkdZxBIEkdZxBIUse1GgRJVia5K8n2JFfsp835SbYm2ZbkxjbrkSTtq7WvjyaZAK4FLgAmgc1JNlTVnX1tngN8AFhZVd9J8k/aqkeSNFybPYIVwPaquruqHgNuAFYNtPkV4JNV9R2Aqvpei/VIkoZoMwgWAzv61iebbf2eB/zjJF9KcmuSoVcmJVmdZEuSLdPT0y2VK0nd1GYQZMi2Glg/GjgXeCXwi8DvJnnePk+qWl9Vy6tq+cKFC2e/UknqsDanmJgElvStnwzsGtJmd1U9DDyc5MvA2cA3W6xLktSnzR7BZmBZkqVJFgAXARsG2nwa+PkkRyc5FngR8PUWa5IkDWitR1BVe5JcBmwCJoDrqmpbkkub/euq6utJ/hK4HXgS+KOq+lpbNUmS9tXq7KNVtRHYOLBt3cD61cDVbdYhSdo/ryyWpI4zCCSp4wwCSeo4g0CSOu6IvlXlfPPkguOe8q8kzQWD4DDy8LJfGHcJkjrIoSFJ6jiDQJI6zqEhaZasWbOGqakpFi1axNq1a8ddjjQyg0CaJVNTU+zcuXPcZUgHzaEhSeo4g0CSOs4gkKSOMwgkqeMMAknqOINAkjrOIJCkjjMIJKnjDAJJ6jiDQJI6ziCQpI5rNQiSrExyV5LtSa4Ysv/8JD9IsrV5XNlmPZKkfbU26VySCeBa4AJgEticZENV3TnQ9K+q6pfbqkOSNLM2ewQrgO1VdXdVPQbcAKxq8fUkSYegzSBYDOzoW59stg16cZLbknw2yZnDDpRkdZItSbZMT0+3UaskdVabQZAh22pg/avAc6vqbOAa4M+HHaiq1lfV8qpavnDhwlkuU5K6rc0gmASW9K2fDOzqb1BVD1TVQ83yRuAZSU5qsSZJ0oA2g2AzsCzJ0iQLgIuADf0NkixKkmZ5RVPP91usSZI0oLVvDVXVniSXAZuACeC6qtqW5NJm/zrgdcBvJtkDPApcVFWDw0eSpBa1es/iZrhn48C2dX3L7wfe32YNkqSZeWWxJHWcQSBJHdfq0JD0dHznqheMu4SDsue+E4Cj2XPft+dN7adcece4S9BhwB6BJHWcQSBJHWcQSFLHGQSS1HEGgSR1nEEgSR1nEEhSxxkEktRxBoEkdZxBIEkdZxBIUscZBJLUcQaBJHXcjLOPJnmQfW84/2NV9axZr0iSNKdmDIKqOh4gyVXAFPBhIMAlwPGtVydJat2oQ0O/WFUfqKoHq+qBqvog8No2C5MkzY1Rg+CJJJckmUhyVJJLgCfaLEySNDdGDYJfAd4AfLd5vL7ZNqMkK5PclWR7kitmaPdzSZ5I8roR65EkzZKRblVZVd8CVh3MgZNMANcCFwCTwOYkG6rqziHt3gNsOpjjS5Jmx0g9giTPS/KFJF9r1s9K8o4DPG0FsL2q7q6qx4AbGB4mvw18AvjeQdQtSZolow4NfQj4HeBxgKq6HbjoAM9ZDOzoW59stv1YksXAq4F1I9YhSZplowbBsVV1y8C2PQd4ToZsG7wm4Q+At1fVjB88J1mdZEuSLdPT0wd4WUnSwRjpMwJgd5LTaN7Imw917z3AcyaBJX3rJwO7BtosB25IAnAS8EtJ9lTVn/c3qqr1wHqA5cuX7/cCN2mcTjrmSWBP8680f4waBL9F74349CQ7gXvoXVQ2k83AsiRLgZ30hpKe8k2jqlq6dznJ9cBfDIaANF+89az7x12CdEhGDYJvV9UrkhwHHFVVDx7oCVW1J8ll9L4NNAFcV1Xbklza7PdzAUk6DIwaBPck+UvgY8D/GfXgVbUR2DiwbWgAVNW/G/W4kqTZM+qHxT8DfJ7eENE9Sd6f5CXtlSVJmisjBUFVPVpVH6+q1wA/CzwLuLHVyiRJc2Lk+xEkeWmSDwBfBY6hN+WEJGmeG+kzgiT3AFuBjwNvq6qHW61KkjRnRv2w+OyqeqDVSiRJY3GgO5Stqaq1wLuT7HMhV1Vd3lplkqQ5caAewdebf7e0XYgkaTwOdKvK/9Us3l5VfzcH9UiS5tio3xr6/STfSPKuJGe2WpEkaU6Neh3By4DzgWlgfZI7RrgfgSRpHhj5OoKqmqqq9wGX0vsq6ZWtVSVJmjOj3qHsnyV5Z3OHsvcDN9ObVlqSNM+Neh3B/wQ+CvxCVQ3eU0CSNI8dMAiam8v/36r6H3NQjyRpjh1waKi5jeSJSRbMQT2SpDk28o1pgJuSbAB+PM9QVf1+K1VJkubMqEGwq3kcBRzfXjmSpLk2UhBU1e+1XYgkaTxGnYb6i8CwSedePusVSZLm1KhDQ2/tWz4GeC2wZ/bLkSTNtVGHhm4d2HRTEm9VKUlHgFGvLD6h73FSkpXAohGetzLJXUm2J7liyP5VSW5PsjXJliQvOYSfQZL0NIw6NHQrvc8IAjwOfAv49Zme0FyIdi1wATAJbE6yoaru7Gv2BWBDVVWSs+jdCvP0g/oJJElPy6iTzr0dOKeqlgIfpnctwSMHeM4KYHtV3V1VjwE3AKv6G1TVQ1W190Po4xjygbQkqV2jBsE7quqBZujmAuB64IMHeM5iYEff+mSz7SmSvDrJN4DPAL827EBJVjdDR1ump6dHLFmSNIpRg+CJ5t9XAuuq6tPAgaacyJBtw76C+qmqOh14FfCuYQeqqvVVtbyqli9cuHDEkiVJoxg1CHYm+UPgDcDGJD8xwnMngSV96yfTuzp5qKr6MnBakpNGrEmSNAtGDYI3AJuAlVV1P3AC8LYDPGczsCzJ0mbCuouADf0Nkvx0kjTLL6TXy/j+QdQvSXqaRr2O4BHgk33r9wL3HuA5e5JcRi9AJoDrqmpbkkub/evoXZj2piSPA48Cb+z78FiSNAdG/froIamqjcDGgW3r+pbfA7ynzRok6UDWrFnD1NQUixYtYu3ateMuZ861GgSSNB9MTU2xc+fOcZcxNiPfvF6SdGQyCCSp4wwCSeo4g0CSOs4gkKSOMwgkqeMMAknqOINAkjrOIJCkjjMIJKnjDAJJ6jjnGpLUivOuOW/cJYxswf0LOIqj2HH/jnlV902/fdOsHMcegSR1nEEgSR1nEEhSxxkEktRxBoEkdZxBIEkdZxBIUscZBJLUca0GQZKVSe5Ksj3JFUP2X5Lk9uZxc5Kz26xHkrSv1oIgyQRwLXAhcAZwcZIzBprdA7y0qs4C3gWsb6seSdJwbfYIVgDbq+ruqnoMuAFY1d+gqm6uqv/XrH4FOLnFeiRpqDq2ePK4J6lja9yljEWbcw0tBnb0rU8CL5qh/a8Dnx22I8lqYDXAKaecMlv1SRIAj5/3+LhLGKs2ewQZsm1o3CZ5Gb0gePuw/VW1vqqWV9XyhQsXzmKJkqQ2ewSTwJK+9ZOBXYONkpwF/BFwYVV9v8V6JElDtNkj2AwsS7I0yQLgImBDf4MkpwCfBH61qr7ZYi2SpP1orUdQVXuSXAZsAiaA66pqW5JLm/3rgCuBE4EPJAHYU1XL26pJkrSvVm9MU1UbgY0D29b1Lf8G8Btt1iBJmplXFktSxxkEktRxBoEkdZxBIEkdZxBIUscZBJLUcQaBJHWcQSBJHWcQSFLHGQSS1HEGgSR1nEEgSR1nEEhSxxkEktRxBoEkdZxBIEkdZxBIUscZBJLUcQaBJHWcQSBJHWcQSFLHtRoESVYmuSvJ9iRXDNl/epK/SfKjJG9tsxZJ0nBHt3XgJBPAtcAFwCSwOcmGqrqzr9l9wOXAq9qqQ5I0szZ7BCuA7VV1d1U9BtwArOpvUFXfq6rNwOMt1iFJmkGbQbAY2NG3PtlsO2hJVifZkmTL9PT0rBQnSeppMwgyZFsdyoGqan1VLa+q5QsXLnyaZUmS+rUZBJPAkr71k4FdLb6eJOkQtBkEm4FlSZYmWQBcBGxo8fUkSYegtW8NVdWeJJcBm4AJ4Lqq2pbk0mb/uiSLgC3As4Ank7wFOKOqHmirLknSU7UWBABVtRHYOLBtXd/yFL0hI0nSmHhlsSR1nEEgSR1nEEhSxxkEktRxBoEkdZxBIEkdZxBIUscZBJLUcQaBJHWcQSBJHWcQSFLHGQSS1HEGgSR1nEEgSR1nEEhSxxkEktRxBoEkdZxBIEkdZxBIUscZBJLUcQaBJHVcq0GQZGWSu5JsT3LFkP1J8r5m/+1JXthmPZKkfbUWBEkmgGuBC4EzgIuTnDHQ7EJgWfNYDXywrXokScO12SNYAWyvqrur6jHgBmDVQJtVwB9Xz1eA5yT5yRZrkiQNOLrFYy8GdvStTwIvGqHNYuDe/kZJVtPrMQA8lOSu2S31sHISsHvcRRyMvPffjruEw8n8On//JeOu4HAyv84dkMsP6vw9d3872gyCYRXWIbShqtYD62ejqMNdki1VtXzcdejQeP7mry6fuzaHhiaBJX3rJwO7DqGNJKlFbQbBZmBZkqVJFgAXARsG2mwA3tR8e+ifAz+oqnsHDyRJak9rQ0NVtSfJZcAmYAK4rqq2Jbm02b8O2Aj8ErAdeAT4923VM490YgjsCOb5m786e+5Stc+QvCSpQ7yyWJI6ziCQpI4zCOZIkieSbO17nJrk5oM8xluSHNtWjV2X5D8n2dZMd7I1yeB1L22//vlJ/mIuX/NIleTEvt+1qSQ7m+X7k9y5n+dcleQVIxz7iDtPbV5HoKd6tKrOGdj2LwYbJZmoqif2c4y3AH9C74N1zaIkLwZ+GXhhVf0oyUnAgjGXpUNUVd8HzgFI8k7goap6b5JTgaFv4lV15bDtB/idPCLYIxijJA81/56f5ItJ/hS4I8lxST6T5LYkX0vyxiSXAz8FfDHJF8da+JHpJ4HdVfUjgKraXVW7kpyb5MYktybZtHcKlCQ/neTzzTn6apLTmq9BX92cszuSvLFpe36SLyX5syTfSPKRJGn2rWy2/TXwmnH98B0zkeRDTe/vc0meCZDk+iSva5a/leTK5ry8/kg/T/YI5s4zk2xtlu+pqlcP7F8BPL+q7knyWmBXVb0SIMmzq+oHSf4j8LKqmleXwc8TnwOuTPJN4PPAx4CbgWuAVVU13byxvxv4NeAjwH+vqk8lOYbeH1WvofdX6Nn0pivYnOTLzfF/FjiT3gWTNwHnJdkCfAh4Ob2vUH9sTn5SLQMurqo3J/k48Fp6Pe1BP6yqlzTn9+85gs+TPYK582hVndM8BkMA4JaquqdZvgN4RZL3JPn5qvrBHNbZSVX1EHAuvTmtpun9sv8H4PnA/25C/B3AyUmOBxZX1aea5/6wqh4BXgJ8tKqeqKrvAjcCP9e8xC1VNVlVTwJbgVOB0+n9UfD31fse97A3I82+e6pq7x9lt9I7F8PsfcM/4s+TPYLDx8N7F6rqm0nOpXex3X9L8rmqump8pXVDMw78JeBLSe4AfgvYVlUv7m+X5Fn7OcRMM4D9qG/5Cf7hd88Leebe4Ll45n7aPdy3fESfJ3sEh6EkPwU8UlV/ArwX2HvDngeB48dW2BEsyc8kWda36Rzg68DC5oNkkjwjyZlV9QAwmeRVzfafaL7N9WXgjUkmkiwE/iVwywwv+w1gaZLTmvWLZ/nH0uw44s+TPYLD0wuAq5M8CTwO/GazfT3w2ST3VtXLxlbdkekfAdckeQ6wh95Y8Gp6/+fvS/Jser8vfwBsA34V+MMkV9E7R68HPgW8GLiN3l+Qa6pqKsnpw16wqn6Y3hTrn0myG/hrekNROox04Tw5xYQkdZxDQ5LUcQaBJHWcQSBJHWcQSFLHGQSS1HEGgXSQkrwzyVvHXYc0WwwCSeo4g0A6gCRvau5RcFuSDw/se3OSzc2+TzRXGJPk9c0spLftnXguyZlJbmnmxb994EpmaWy8oEyaQZIzgU8C51XV7iQnAJfzD/Pbn9jMfU+S/wp8t6quaeYqWllVO5M8p6ruT3IN8JWq+kiSBcBEVT06rp9N2ssegTSzlwN/tnfq76q6b2D/85P8VfPGfwm9qaahN9X09UneDEw02/4G+E9J3g481xDQ4cIgkGYWZp558nrgsqp6AfB7wDEAVXUpvWmrlwBbm57DnwL/GngU2JTk5W0WLo3KIJBm9gXgDUlOBGiGhvodD9yb5Bn0egQ07U6rqr9tbn+4G1iS5J8Cd1fV+4ANwFlz8hNIB+Dso9IMqmpbkncDNyZ5Avg74Ft9TX4X+Fvg2/RuKLR3mvCrmw+DQy9MbgOuAP5NkseBKcB7TOiw4IfFktRxDg1JUscZBJLUcQaBJHWcQSBJHWcQSFLHGQSS1HEGgSR13P8HnKfxwEqrecUAAAAASUVORK5CYII=\n",
      "text/plain": [
       "<Figure size 432x288 with 1 Axes>"
      ]
     },
     "metadata": {
      "needs_background": "light"
     },
     "output_type": "display_data"
    }
   ],
   "source": [
    "#Checking Survival Rate of each class - Survival rate decreases with increase in class\n",
    "sns.barplot(x='class', y='survived', data = titanic)"
   ]
  },
  {
   "cell_type": "code",
   "execution_count": 78,
   "metadata": {},
   "outputs": [
    {
     "data": {
      "text/html": [
       "<div>\n",
       "<style scoped>\n",
       "    .dataframe tbody tr th:only-of-type {\n",
       "        vertical-align: middle;\n",
       "    }\n",
       "\n",
       "    .dataframe tbody tr th {\n",
       "        vertical-align: top;\n",
       "    }\n",
       "\n",
       "    .dataframe thead th {\n",
       "        text-align: right;\n",
       "    }\n",
       "</style>\n",
       "<table border=\"1\" class=\"dataframe\">\n",
       "  <thead>\n",
       "    <tr style=\"text-align: right;\">\n",
       "      <th></th>\n",
       "      <th>class</th>\n",
       "      <th>First</th>\n",
       "      <th>Second</th>\n",
       "      <th>Third</th>\n",
       "    </tr>\n",
       "    <tr>\n",
       "      <th>sex</th>\n",
       "      <th>age</th>\n",
       "      <th></th>\n",
       "      <th></th>\n",
       "      <th></th>\n",
       "    </tr>\n",
       "  </thead>\n",
       "  <tbody>\n",
       "    <tr>\n",
       "      <th rowspan=\"3\" valign=\"top\">female</th>\n",
       "      <th>(0, 18]</th>\n",
       "      <td>0.909091</td>\n",
       "      <td>1.000000</td>\n",
       "      <td>0.511628</td>\n",
       "    </tr>\n",
       "    <tr>\n",
       "      <th>(18, 40]</th>\n",
       "      <td>0.979167</td>\n",
       "      <td>0.914894</td>\n",
       "      <td>0.480000</td>\n",
       "    </tr>\n",
       "    <tr>\n",
       "      <th>(40, 80]</th>\n",
       "      <td>0.961538</td>\n",
       "      <td>0.846154</td>\n",
       "      <td>0.111111</td>\n",
       "    </tr>\n",
       "    <tr>\n",
       "      <th rowspan=\"3\" valign=\"top\">male</th>\n",
       "      <th>(0, 18]</th>\n",
       "      <td>0.800000</td>\n",
       "      <td>0.600000</td>\n",
       "      <td>0.215686</td>\n",
       "    </tr>\n",
       "    <tr>\n",
       "      <th>(18, 40]</th>\n",
       "      <td>0.478261</td>\n",
       "      <td>0.063492</td>\n",
       "      <td>0.146199</td>\n",
       "    </tr>\n",
       "    <tr>\n",
       "      <th>(40, 80]</th>\n",
       "      <td>0.280000</td>\n",
       "      <td>0.095238</td>\n",
       "      <td>0.064516</td>\n",
       "    </tr>\n",
       "  </tbody>\n",
       "</table>\n",
       "</div>"
      ],
      "text/plain": [
       "class               First    Second     Third\n",
       "sex    age                                   \n",
       "female (0, 18]   0.909091  1.000000  0.511628\n",
       "       (18, 40]  0.979167  0.914894  0.480000\n",
       "       (40, 80]  0.961538  0.846154  0.111111\n",
       "male   (0, 18]   0.800000  0.600000  0.215686\n",
       "       (18, 40]  0.478261  0.063492  0.146199\n",
       "       (40, 80]  0.280000  0.095238  0.064516"
      ]
     },
     "execution_count": 78,
     "metadata": {},
     "output_type": "execute_result"
    }
   ],
   "source": [
    "#Checking survivors by age, class and sex - for this we have to cut the age column into buckets \n",
    "age = pd.cut(titanic['age'], [0,18,40,80])\n",
    "titanic.pivot_table('survived', ['sex',age], 'class')\n",
    "\n",
    "# Females in 1st Class between ages 18-40 had highest survival rate"
   ]
  },
  {
   "cell_type": "code",
   "execution_count": 83,
   "metadata": {},
   "outputs": [
    {
     "data": {
      "image/png": "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\n",
      "text/plain": [
       "<Figure size 432x288 with 1 Axes>"
      ]
     },
     "metadata": {
      "needs_background": "light"
     },
     "output_type": "display_data"
    }
   ],
   "source": [
    "# Lets check prices variations if any based on class\n",
    "plt.scatter(titanic['fare'], titanic['class'], color = 'blue', label = 'Cost to Passenger')\n",
    "plt.ylabel('class')\n",
    "plt.xlabel('Price')\n",
    "plt.title('Price as per Class')\n",
    "plt.legend()\n",
    "plt.show()"
   ]
  },
  {
   "cell_type": "code",
   "execution_count": 84,
   "metadata": {},
   "outputs": [],
   "source": [
    "# The charts above helped visually understand the data \n",
    "# We can move forward to data wrangling \n"
   ]
  },
  {
   "cell_type": "code",
   "execution_count": 86,
   "metadata": {},
   "outputs": [
    {
     "data": {
      "text/plain": [
       "survived         0\n",
       "pclass           0\n",
       "sex              0\n",
       "age            177\n",
       "sibsp            0\n",
       "parch            0\n",
       "fare             0\n",
       "embarked         2\n",
       "class            0\n",
       "who              0\n",
       "adult_male       0\n",
       "deck           688\n",
       "embark_town      2\n",
       "alive            0\n",
       "alone            0\n",
       "dtype: int64"
      ]
     },
     "execution_count": 86,
     "metadata": {},
     "output_type": "execute_result"
    }
   ],
   "source": [
    "#check for null values to plan data wrangling \n",
    "titanic.isnull().sum()\n",
    "\n",
    "# high missing values in age and deck"
   ]
  },
  {
   "cell_type": "code",
   "execution_count": 87,
   "metadata": {},
   "outputs": [],
   "source": [
    "# We cannot keep missing values in the dataframe \n",
    "# also check for redundent columns and get rid of them\n",
    "# Column Alive is same as Column Survived so we can remove that column\n",
    "# pclass is also same as column class so we can remove that too\n"
   ]
  },
  {
   "cell_type": "code",
   "execution_count": 101,
   "metadata": {},
   "outputs": [],
   "source": [
    "#Dropping the columns\n",
    "titanic = titanic.drop(['deck', 'embark_town', 'alive', 'class', 'who', 'alone', 'adult_male'], axis = 1)\n",
    "\n",
    "# dropping na values from rows\n",
    "titanic = titanic.dropna(subset = ['age', 'embarked'])\n",
    "\n",
    "# dropping alone, adult_male, who since we have the same data in other columns"
   ]
  },
  {
   "cell_type": "code",
   "execution_count": 104,
   "metadata": {},
   "outputs": [
    {
     "data": {
      "text/plain": [
       "(712, 8)"
      ]
     },
     "execution_count": 104,
     "metadata": {},
     "output_type": "execute_result"
    }
   ],
   "source": [
    "#checking new number of rows and columns\n",
    "titanic.shape"
   ]
  },
  {
   "cell_type": "code",
   "execution_count": 107,
   "metadata": {},
   "outputs": [
    {
     "data": {
      "text/plain": [
       "survived      int64\n",
       "pclass        int64\n",
       "sex          object\n",
       "age         float64\n",
       "sibsp         int64\n",
       "parch         int64\n",
       "fare        float64\n",
       "embarked     object\n",
       "dtype: object"
      ]
     },
     "execution_count": 107,
     "metadata": {},
     "output_type": "execute_result"
    }
   ],
   "source": [
    "#checking dtypes\n",
    "titanic.dtypes"
   ]
  },
  {
   "cell_type": "code",
   "execution_count": 114,
   "metadata": {},
   "outputs": [],
   "source": [
    "# Apart from sex and embarked column, every column is a number value\n",
    "# To implement models, we need to have every value in the dataframe as a number value\n",
    "# We will use sklearn label encoder package to convert the object into number values"
   ]
  },
  {
   "cell_type": "code",
   "execution_count": 115,
   "metadata": {},
   "outputs": [
    {
     "name": "stdout",
     "output_type": "stream",
     "text": [
      "[1 0]\n",
      "[2 0 1]\n"
     ]
    }
   ],
   "source": [
    "# downloading LabelEncoder from sklearn \n",
    "from sklearn.preprocessing import LabelEncoder\n",
    "labelencoder = LabelEncoder()\n",
    "\n",
    "# Encode sex column\n",
    "titanic.iloc[:,2] = labelencoder.fit_transform(titanic.iloc[:,2].values)\n",
    "\n",
    "# Encode embarked column\n",
    "titanic.iloc[:,7] = labelencoder.fit_transform(titanic.iloc[:,7].values)\n",
    "\n",
    "print(titanic['sex'].unique())\n",
    "print(titanic['embarked'].unique())\n",
    "\n",
    "# We got 1 for male and 2 for female\n",
    "# SImilarly, 2,0,1 for S,C,Q respectively\n"
   ]
  },
  {
   "cell_type": "code",
   "execution_count": 118,
   "metadata": {},
   "outputs": [
    {
     "data": {
      "text/plain": [
       "survived      int64\n",
       "pclass        int64\n",
       "sex           int64\n",
       "age         float64\n",
       "sibsp         int64\n",
       "parch         int64\n",
       "fare        float64\n",
       "embarked      int64\n",
       "dtype: object"
      ]
     },
     "execution_count": 118,
     "metadata": {},
     "output_type": "execute_result"
    }
   ],
   "source": [
    "titanic.dtypes\n",
    "\n",
    "#checking again for all columns converted to numberical value or not"
   ]
  },
  {
   "cell_type": "code",
   "execution_count": 121,
   "metadata": {},
   "outputs": [],
   "source": [
    "# To run the algorithms for predictions, we will split data into independen \"X\" and dependent \"y\" variables\n",
    "# Survived column is what we have to preduct, being dependent variable, we will separate from the dataset\n",
    "X = titanic.iloc[:,1:8].values\n",
    "Y = titanic.iloc[:,0].values"
   ]
  },
  {
   "cell_type": "code",
   "execution_count": 163,
   "metadata": {},
   "outputs": [],
   "source": [
    "# Create training set, we will further split the data into training and test data (80:20)\n",
    "from sklearn.model_selection import train_test_split\n",
    "X_train, X_test, Y_train, Y_test = train_test_split(X,Y, test_size = 0.2, random_state = 0)"
   ]
  },
  {
   "cell_type": "code",
   "execution_count": 164,
   "metadata": {},
   "outputs": [],
   "source": [
    "# Scale the data\n",
    "from sklearn.preprocessing import StandardScaler\n",
    "sc = StandardScaler()\n",
    "X_train = sc.fit_transform(X_train)\n",
    "X_test = sc.fit_transform(X_test)"
   ]
  },
  {
   "cell_type": "code",
   "execution_count": 165,
   "metadata": {},
   "outputs": [],
   "source": [
    "# Now we will use various machine learning models \n",
    "# for that we will def a function that will help use different models \n",
    "\n",
    "def models(X_train, Y_train):\n",
    "    \n",
    "    #1st we will use Logistic regression\n",
    "    from sklearn.linear_model import LogisticRegression\n",
    "    log = LogisticRegression(random_state=0)\n",
    "    log.fit(X_train, Y_train)\n",
    "    \n",
    "    # Using KNeighbors \n",
    "    from sklearn.neighbors import KNeighborsClassifier\n",
    "    knn = KNeighborsClassifier(n_neighbors =5, metric = 'minkowski', p=2)\n",
    "    knn.fit(X_train,Y_train)\n",
    "    \n",
    "    # Using SVM (linear kernel)\n",
    "    from sklearn.svm import SVC\n",
    "    svc_lin = SVC(kernel = 'linear', random_state = 0)\n",
    "    svc_lin.fit(X_train,Y_train)\n",
    "    \n",
    "    # Using SVM (RBF kernel)\n",
    "    from sklearn.svm import SVC\n",
    "    svc_rbf = SVC(kernel = 'rbf', random_state = 0)\n",
    "    svc_rbf.fit(X_train,Y_train)\n",
    "    \n",
    "    #Use GaussianNB\n",
    "    from sklearn.naive_bayes import GaussianNB\n",
    "    gauss = GaussianNB()\n",
    "    gauss.fit(X_train,Y_train)\n",
    "    \n",
    "    #Using Decision tree\n",
    "    from sklearn.tree import DecisionTreeClassifier\n",
    "    tree = DecisionTreeClassifier(criterion = 'entropy', random_state = 0)\n",
    "    tree.fit(X_train, Y_train)\n",
    "    \n",
    "    #Using Random Forest Classifier\n",
    "    from sklearn.ensemble import RandomForestClassifier\n",
    "    forest = RandomForestClassifier(n_estimators = 10, criterion = 'entropy', random_state =0)\n",
    "    forest.fit(X_train, Y_train)\n",
    "    \n",
    "    print('[0]Logistic Regression Training Accuracy', log.score(X_train, Y_train))\n",
    "    print('[1]K Nearest Neighbors Regression Training Accuracy', knn.score(X_train, Y_train))\n",
    "    print('[2]SVC Linear Regression Training Accuracy', svc_lin.score(X_train, Y_train))\n",
    "    print('[3]SVC RBF Regression Training Accuracy', svc_rbf.score(X_train, Y_train))\n",
    "    print('[4]Gaussian Regression Training Accuracy', gauss.score(X_train, Y_train))\n",
    "    print('[5]Decision Tree Regression Training Accuracy', tree.score(X_train, Y_train))\n",
    "    print('[6]Random Forest Regression Training Accuracy', forest.score(X_train, Y_train))\n",
    "    \n",
    "    return log, knn, svc_lin, svc_rbf, gauss, tree, forest"
   ]
  },
  {
   "cell_type": "code",
   "execution_count": 166,
   "metadata": {},
   "outputs": [
    {
     "name": "stdout",
     "output_type": "stream",
     "text": [
      "[0]Logistic Regression Training Accuracy 0.7978910369068541\n",
      "[1]K Nearest Neighbors Regression Training Accuracy 0.8664323374340949\n",
      "[2]SVC Linear Regression Training Accuracy 0.7768014059753954\n",
      "[3]SVC RBF Regression Training Accuracy 0.8506151142355008\n",
      "[4]Gaussian Regression Training Accuracy 0.8031634446397188\n",
      "[5]Decision Tree Regression Training Accuracy 0.9929701230228472\n",
      "[6]Random Forest Regression Training Accuracy 0.9753954305799648\n"
     ]
    }
   ],
   "source": [
    "models = models(X_train, Y_train)"
   ]
  },
  {
   "cell_type": "code",
   "execution_count": 167,
   "metadata": {},
   "outputs": [],
   "source": [
    "# Above results show score of different models on training data\n",
    "# Decision Tree scores highes followed by Ramdon Forest on training data"
   ]
  },
  {
   "cell_type": "code",
   "execution_count": 169,
   "metadata": {},
   "outputs": [
    {
     "name": "stdout",
     "output_type": "stream",
     "text": [
      "[[75  7]\n",
      " [19 42]]\n",
      "Model[0] Testing Accuracy = \"0.6573426573426573\"\n",
      "\n",
      "[[67 15]\n",
      " [20 41]]\n",
      "Model[1] Testing Accuracy = \"0.6083916083916084\"\n",
      "\n",
      "[[70 12]\n",
      " [18 43]]\n",
      "Model[2] Testing Accuracy = \"0.6153846153846154\"\n",
      "\n",
      "[[75  7]\n",
      " [22 39]]\n",
      "Model[3] Testing Accuracy = \"0.6783216783216783\"\n",
      "\n",
      "[[69 13]\n",
      " [27 34]]\n",
      "Model[4] Testing Accuracy = \"0.6713286713286714\"\n",
      "\n",
      "[[54 28]\n",
      " [12 49]]\n",
      "Model[5] Testing Accuracy = \"0.46153846153846156\"\n",
      "\n",
      "[[73  9]\n",
      " [14 47]]\n",
      "Model[6] Testing Accuracy = \"0.6083916083916084\"\n",
      "\n"
     ]
    }
   ],
   "source": [
    "#Now we will show confusion matrix and accuracy for all models in the test data\n",
    "\n",
    "from sklearn.metrics import confusion_matrix\n",
    "\n",
    "for i in range(len(models)):\n",
    "    cm = confusion_matrix(Y_test, models[i].predict(X_test))\n",
    "    \n",
    "    #Extracting TN, FN, TP, FP\n",
    "    TN, FN, TP, FP = confusion_matrix(Y_test, models[i].predict(X_test)).ravel()\n",
    "    test_score = (TP + TN)/(TP + TN + FN + FP)\n",
    "    print(cm)\n",
    "    print('Model[{}] Testing Accuracy = \"{}\"'.format(i, test_score))\n",
    "    print()"
   ]
  },
  {
   "cell_type": "code",
   "execution_count": 189,
   "metadata": {},
   "outputs": [
    {
     "data": {
      "text/html": [
       "<div>\n",
       "<style scoped>\n",
       "    .dataframe tbody tr th:only-of-type {\n",
       "        vertical-align: middle;\n",
       "    }\n",
       "\n",
       "    .dataframe tbody tr th {\n",
       "        vertical-align: top;\n",
       "    }\n",
       "\n",
       "    .dataframe thead th {\n",
       "        text-align: right;\n",
       "    }\n",
       "</style>\n",
       "<table border=\"1\" class=\"dataframe\">\n",
       "  <thead>\n",
       "    <tr style=\"text-align: right;\">\n",
       "      <th></th>\n",
       "      <th>importance</th>\n",
       "    </tr>\n",
       "    <tr>\n",
       "      <th>feature</th>\n",
       "      <th></th>\n",
       "    </tr>\n",
       "  </thead>\n",
       "  <tbody>\n",
       "    <tr>\n",
       "      <th>age</th>\n",
       "      <td>0.300</td>\n",
       "    </tr>\n",
       "    <tr>\n",
       "      <th>fare</th>\n",
       "      <td>0.296</td>\n",
       "    </tr>\n",
       "    <tr>\n",
       "      <th>sex</th>\n",
       "      <td>0.183</td>\n",
       "    </tr>\n",
       "    <tr>\n",
       "      <th>pclass</th>\n",
       "      <td>0.098</td>\n",
       "    </tr>\n",
       "    <tr>\n",
       "      <th>sibsp</th>\n",
       "      <td>0.050</td>\n",
       "    </tr>\n",
       "    <tr>\n",
       "      <th>parch</th>\n",
       "      <td>0.044</td>\n",
       "    </tr>\n",
       "    <tr>\n",
       "      <th>embarked</th>\n",
       "      <td>0.030</td>\n",
       "    </tr>\n",
       "  </tbody>\n",
       "</table>\n",
       "</div>"
      ],
      "text/plain": [
       "          importance\n",
       "feature             \n",
       "age            0.300\n",
       "fare           0.296\n",
       "sex            0.183\n",
       "pclass         0.098\n",
       "sibsp          0.050\n",
       "parch          0.044\n",
       "embarked       0.030"
      ]
     },
     "execution_count": 189,
     "metadata": {},
     "output_type": "execute_result"
    }
   ],
   "source": [
    "#Lets check the important features for Randon FOrest Classifier\n",
    "\n",
    "forest = models[6]\n",
    "importances = pd.DataFrame({'feature':titanic.iloc[:, 1:8].columns, 'importance': np.round(forest.feature_importances_, 3)})\n",
    "importances = importances.sort_values('importance', ascending = False).set_index('feature')\n",
    "importances"
   ]
  },
  {
   "cell_type": "code",
   "execution_count": 191,
   "metadata": {},
   "outputs": [
    {
     "data": {
      "text/plain": [
       "<matplotlib.axes._subplots.AxesSubplot at 0x25a28e30310>"
      ]
     },
     "execution_count": 191,
     "metadata": {},
     "output_type": "execute_result"
    },
    {
     "data": {
      "image/png": "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\n",
      "text/plain": [
       "<Figure size 432x288 with 1 Axes>"
      ]
     },
     "metadata": {
      "needs_background": "light"
     },
     "output_type": "display_data"
    }
   ],
   "source": [
    "# The dataframe shows the importance of each column in descending order\n",
    "# Using Random Forest Classifier, Age and fare are the top two drivers of survival\n",
    "\n",
    "#visualising the same\n",
    "importances.plot.bar()"
   ]
  },
  {
   "cell_type": "code",
   "execution_count": 193,
   "metadata": {},
   "outputs": [
    {
     "name": "stdout",
     "output_type": "stream",
     "text": [
      "[1 0 1 0 0 0 1 0 0 1 1 1 1 0 0 1 0 1 0 0 1 1 1 1 0 0 0 0 0 0 0 0 0 1 1 1 1\n",
      " 0 0 1 0 0 0 0 0 0 1 0 0 1 1 0 1 0 1 0 0 0 1 1 0 0 0 1 0 0 1 0 1 1 0 1 1 1\n",
      " 0 0 1 0 0 0 0 1 0 1 1 0 0 0 1 0 0 0 1 1 1 0 1 1 0 0 0 1 0 0 1 0 1 0 0 0 0\n",
      " 1 1 0 0 0 0 0 0 0 0 0 0 1 0 0 0 0 0 1 0 1 1 1 1 1 1 0 0 0 0 0 1]\n",
      "\n",
      "[0 0 1 0 0 0 1 0 0 0 1 1 1 0 0 1 0 1 1 0 0 1 1 1 0 0 0 0 1 0 0 0 0 1 1 0 1\n",
      " 1 1 1 1 1 0 0 0 0 1 0 0 1 1 0 1 0 0 0 0 0 1 0 0 0 0 1 0 0 1 1 0 1 0 1 1 1\n",
      " 0 0 1 1 0 0 0 1 1 1 1 0 0 0 1 0 0 0 1 1 1 0 1 1 0 1 0 1 0 0 0 0 1 0 0 0 0\n",
      " 1 1 1 0 0 1 0 0 1 0 0 0 0 0 0 0 0 0 1 1 1 1 1 1 1 1 0 0 0 0 0 1]\n"
     ]
    }
   ],
   "source": [
    "#Checking predictions of Random Forest Classifier\n",
    "\n",
    "pred = models[6].predict(X_test)\n",
    "print(pred)\n",
    "\n",
    "print()\n",
    "\n",
    "# Also checking actual values\n",
    "print(Y_test)"
   ]
  },
  {
   "cell_type": "code",
   "execution_count": 243,
   "metadata": {},
   "outputs": [
    {
     "name": "stdout",
     "output_type": "stream",
     "text": [
      "[0]\n",
      "You are dead\n"
     ]
    }
   ],
   "source": [
    "# Checking survival of a new entry\n",
    "\n",
    "new_survival = [[2, 0, 10, 8 ,2 ,300,2]]\n",
    "#(PCLASS, GENDER, AGE, SIBLINGS, PARENT, FARE, EMBARK)\n",
    "\n",
    "\n",
    "#Scaling survival\n",
    "\n",
    "new_survival_scaled = sc.fit_transform(new_survival)\n",
    "\n",
    "#Printing prediction of new_survival using Random Forest Classifier\n",
    "\n",
    "pred = models[6].predict(new_survival_scaled)\n",
    "print(pred)\n",
    "\n",
    "if pred == 0:\n",
    "    print('You are dead')\n",
    "else:\n",
    "    print('You survived')"
   ]
  },
  {
   "cell_type": "code",
   "execution_count": 244,
   "metadata": {},
   "outputs": [
    {
     "name": "stdout",
     "output_type": "stream",
     "text": [
      "Collecting sweetvizNote: you may need to restart the kernel to use updated packages.\n",
      "  Downloading sweetviz-1.0b5-py3-none-any.whl (325 kB)\n",
      "\n",
      "Requirement already satisfied: scipy>=1.3.2 in c:\\programdata\\anaconda3\\lib\\site-packages (from sweetviz) (1.5.0)\n",
      "Collecting importlib-resources>=1.2.0\n",
      "  Downloading importlib_resources-3.0.0-py2.py3-none-any.whl (23 kB)\n",
      "Requirement already satisfied: matplotlib>=3.1.3 in c:\\programdata\\anaconda3\\lib\\site-packages (from sweetviz) (3.2.2)\n",
      "Requirement already satisfied: jinja2>=2.11.1 in c:\\programdata\\anaconda3\\lib\\site-packages (from sweetviz) (2.11.2)\n",
      "Requirement already satisfied: numpy>=1.16.0 in c:\\programdata\\anaconda3\\lib\\site-packages (from sweetviz) (1.18.5)\n",
      "Requirement already satisfied: tqdm>=4.43.0 in c:\\programdata\\anaconda3\\lib\\site-packages (from sweetviz) (4.47.0)\n",
      "Requirement already satisfied: pandas!=1.0.0,!=1.0.1,!=1.0.2,>=0.25.3 in c:\\programdata\\anaconda3\\lib\\site-packages (from sweetviz) (1.0.5)\n",
      "Requirement already satisfied: kiwisolver>=1.0.1 in c:\\programdata\\anaconda3\\lib\\site-packages (from matplotlib>=3.1.3->sweetviz) (1.2.0)\n",
      "Requirement already satisfied: pyparsing!=2.0.4,!=2.1.2,!=2.1.6,>=2.0.1 in c:\\programdata\\anaconda3\\lib\\site-packages (from matplotlib>=3.1.3->sweetviz) (2.4.7)\n",
      "Requirement already satisfied: python-dateutil>=2.1 in c:\\programdata\\anaconda3\\lib\\site-packages (from matplotlib>=3.1.3->sweetviz) (2.8.1)\n",
      "Requirement already satisfied: cycler>=0.10 in c:\\programdata\\anaconda3\\lib\\site-packages (from matplotlib>=3.1.3->sweetviz) (0.10.0)\n",
      "Requirement already satisfied: MarkupSafe>=0.23 in c:\\programdata\\anaconda3\\lib\\site-packages (from jinja2>=2.11.1->sweetviz) (1.1.1)\n",
      "Requirement already satisfied: pytz>=2017.2 in c:\\programdata\\anaconda3\\lib\\site-packages (from pandas!=1.0.0,!=1.0.1,!=1.0.2,>=0.25.3->sweetviz) (2020.1)\n",
      "Requirement already satisfied: six>=1.5 in c:\\programdata\\anaconda3\\lib\\site-packages (from python-dateutil>=2.1->matplotlib>=3.1.3->sweetviz) (1.15.0)\n",
      "Installing collected packages: importlib-resources, sweetviz\n",
      "Successfully installed importlib-resources-3.0.0 sweetviz-1.0b5\n"
     ]
    }
   ],
   "source": [
    "pip install sweetviz"
   ]
  },
  {
   "cell_type": "code",
   "execution_count": 246,
   "metadata": {},
   "outputs": [],
   "source": [
    "titanic_2 = sns.load_dataset('titanic')"
   ]
  },
  {
   "cell_type": "code",
   "execution_count": 248,
   "metadata": {},
   "outputs": [
    {
     "name": "stderr",
     "output_type": "stream",
     "text": [
      ":FEATURES DONE:                    |█████████████████████| [100%]   00:20  -> (00:00 left)\n",
      ":PAIRWISE DONE:                    |█████████████████████| [100%]   00:01  -> (00:00 left)\n"
     ]
    },
    {
     "name": "stdout",
     "output_type": "stream",
     "text": [
      "Creating Associations graph... DONE!\n",
      "Report Titanic.html was generated! NOTEBOOK/COLAB USERS: no browser will pop up, the report is saved in your notebook/colab files.\n"
     ]
    }
   ],
   "source": [
    "# importing sweetviz\n",
    "import sweetviz as sv\n",
    "#analyzing the dataset\n",
    "titanic_report = sv.analyze(titanic_2)\n",
    "#display the report\n",
    "titanic_report.show_html('Titanic.html')"
   ]
  },
  {
   "cell_type": "code",
   "execution_count": 250,
   "metadata": {},
   "outputs": [
    {
     "name": "stdout",
     "output_type": "stream",
     "text": [
      "Collecting missingno\n",
      "  Downloading missingno-0.4.2-py3-none-any.whl (9.7 kB)\n",
      "Requirement already satisfied: matplotlib in c:\\programdata\\anaconda3\\lib\\site-packages (from missingno) (3.2.2)\n",
      "Requirement already satisfied: scipy in c:\\programdata\\anaconda3\\lib\\site-packages (from missingno) (1.5.0)\n",
      "Requirement already satisfied: numpy in c:\\programdata\\anaconda3\\lib\\site-packages (from missingno) (1.18.5)\n",
      "Requirement already satisfied: seaborn in c:\\programdata\\anaconda3\\lib\\site-packages (from missingno) (0.10.1)\n",
      "Requirement already satisfied: kiwisolver>=1.0.1 in c:\\programdata\\anaconda3\\lib\\site-packages (from matplotlib->missingno) (1.2.0)\n",
      "Requirement already satisfied: python-dateutil>=2.1 in c:\\programdata\\anaconda3\\lib\\site-packages (from matplotlib->missingno) (2.8.1)\n",
      "Requirement already satisfied: cycler>=0.10 in c:\\programdata\\anaconda3\\lib\\site-packages (from matplotlib->missingno) (0.10.0)\n",
      "Requirement already satisfied: pyparsing!=2.0.4,!=2.1.2,!=2.1.6,>=2.0.1 in c:\\programdata\\anaconda3\\lib\\site-packages (from matplotlib->missingno) (2.4.7)\n",
      "Requirement already satisfied: pandas>=0.22.0 in c:\\programdata\\anaconda3\\lib\\site-packages (from seaborn->missingno) (1.0.5)\n",
      "Requirement already satisfied: six>=1.5 in c:\\programdata\\anaconda3\\lib\\site-packages (from python-dateutil>=2.1->matplotlib->missingno) (1.15.0)\n",
      "Requirement already satisfied: pytz>=2017.2 in c:\\programdata\\anaconda3\\lib\\site-packages (from pandas>=0.22.0->seaborn->missingno) (2020.1)\n",
      "Installing collected packages: missingno\n",
      "Successfully installed missingno-0.4.2\n",
      "Note: you may need to restart the kernel to use updated packages.\n"
     ]
    }
   ],
   "source": [
    "pip install missingno\n"
   ]
  },
  {
   "cell_type": "code",
   "execution_count": null,
   "metadata": {},
   "outputs": [],
   "source": []
  },
  {
   "cell_type": "code",
   "execution_count": null,
   "metadata": {},
   "outputs": [],
   "source": []
  }
 ],
 "metadata": {
  "kernelspec": {
   "display_name": "Python 3",
   "language": "python",
   "name": "python3"
  },
  "language_info": {
   "codemirror_mode": {
    "name": "ipython",
    "version": 3
   },
   "file_extension": ".py",
   "mimetype": "text/x-python",
   "name": "python",
   "nbconvert_exporter": "python",
   "pygments_lexer": "ipython3",
   "version": "3.8.3"
  }
 },
 "nbformat": 4,
 "nbformat_minor": 4
}
code ends here